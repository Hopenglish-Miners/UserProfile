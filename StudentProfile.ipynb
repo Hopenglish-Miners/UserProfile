{
 "cells": [
  {
   "cell_type": "code",
   "execution_count": 1,
   "metadata": {
    "collapsed": false
   },
   "outputs": [],
   "source": [
    "import pandas as pd\n",
    "import urllib\n",
    "import time\n",
    "import json"
   ]
  },
  {
   "cell_type": "code",
   "execution_count": 37,
   "metadata": {
    "collapsed": false
   },
   "outputs": [],
   "source": [
    "studentBehavior = pd.read_json(\"studentBehaviorInfoOver40Class_1213.json\", orient=\"index\")\n",
    "csv_file = pd.read_csv(\"clusteringData.csv\",header=None)"
   ]
  },
  {
   "cell_type": "code",
   "execution_count": 34,
   "metadata": {
    "collapsed": false
   },
   "outputs": [
    {
     "name": "stdout",
     "output_type": "stream",
     "text": [
      "13354\n"
     ]
    }
   ],
   "source": [
    "# print(studentBehavior[0])\n",
    "# print studentBehavior[0][\"memberId\"]\n",
    "# print (studentBehavior[0][\"chosenVideo\"])\n",
    "# print (studentBehavior[0][\"vocabularyList\"])\n",
    "print(video_to_cluster)\n",
    "\n",
    "## Desired json structure\n",
    "# [\n",
    "#     {\n",
    "#         \"memberId\": 12345,\n",
    "#         \"videoSequence\":\n",
    "#             [\n",
    "#                 3980,\n",
    "#                 7680,\n",
    "#                 1235\n",
    "#             ],\n",
    "#         \"skippingRatioSequence\":\n",
    "#             [\n",
    "#                 0,\n",
    "#                 0,\n",
    "#                 0.3\n",
    "#             ],\n",
    "#         \"scoreSequence\":\n",
    "#             [\n",
    "#                 80,\n",
    "#                 70,\n",
    "#                 75\n",
    "#             ],\n",
    "#         \"dictionarySequence\":\n",
    "#             [\n",
    "#                 0,\n",
    "#                 0,\n",
    "#                 0\n",
    "#             ],\n",
    "#         \"skippingIndex\": 10,\n",
    "#         \"clusterSequence\":\n",
    "#             [\n",
    "#                 \"C1\",\n",
    "#                 \"C1\",\n",
    "#                 \"C2\"\n",
    "#             ]\n",
    "        \n",
    "#     }\n",
    "# ]\n",
    "\n"
   ]
  },
  {
   "cell_type": "code",
   "execution_count": 42,
   "metadata": {
    "collapsed": false
   },
   "outputs": [
    {
     "ename": "KeyError",
     "evalue": "118065",
     "output_type": "error",
     "traceback": [
      "\u001b[0;31m---------------------------------------------------------------------------\u001b[0m",
      "\u001b[0;31mKeyError\u001b[0m                                  Traceback (most recent call last)",
      "\u001b[0;32m<ipython-input-42-36f53c72d5ce>\u001b[0m in \u001b[0;36m<module>\u001b[0;34m()\u001b[0m\n\u001b[1;32m     97\u001b[0m \u001b[0;34m\u001b[0m\u001b[0m\n\u001b[1;32m     98\u001b[0m \u001b[0;34m\u001b[0m\u001b[0m\n\u001b[0;32m---> 99\u001b[0;31m \u001b[0mprint\u001b[0m\u001b[0;34m(\u001b[0m\u001b[0musersProfilesJsonWithIndexes\u001b[0m\u001b[0;34m[\u001b[0m\u001b[0;36m118065\u001b[0m\u001b[0;34m]\u001b[0m\u001b[0;34m)\u001b[0m\u001b[0;34m\u001b[0m\u001b[0m\n\u001b[0m\u001b[1;32m    100\u001b[0m \u001b[0mfileStudentProfile\u001b[0m \u001b[0;34m=\u001b[0m \u001b[0mopen\u001b[0m\u001b[0;34m(\u001b[0m\u001b[0;34m\"studentProfile.json\"\u001b[0m\u001b[0;34m,\u001b[0m \u001b[0;34m\"w\"\u001b[0m\u001b[0;34m)\u001b[0m\u001b[0;34m\u001b[0m\u001b[0m\n\u001b[1;32m    101\u001b[0m \u001b[0mfileStudentProfile\u001b[0m\u001b[0;34m.\u001b[0m\u001b[0mwrite\u001b[0m\u001b[0;34m(\u001b[0m\u001b[0;34m\"[\"\u001b[0m\u001b[0;34m)\u001b[0m\u001b[0;34m\u001b[0m\u001b[0m\n",
      "\u001b[0;31mKeyError\u001b[0m: 118065"
     ]
    }
   ],
   "source": [
    "# Generate Users Profile File\n",
    "\n",
    "# This method return a mapping of video(key) \n",
    "# and and array of scores(value)\n",
    "def parse_video_scores(scores_object):\n",
    "    result = {}\n",
    "    for score in scores_object:\n",
    "        if score['postId'] not in result:\n",
    "            result[score['postId']] = []\n",
    "        result[score['postId']].append(score['score'])\n",
    "    return result\n",
    "            \n",
    "def parse_video_words(words_object):\n",
    "    result = {}\n",
    "    for word in words_object:\n",
    "        if word['postId'] not in result:\n",
    "            result[word['postId']] = []\n",
    "        result[word['postId']].append(word['word'])\n",
    "    return result\n",
    "\n",
    "def parse_csv_file(csv_file):\n",
    "    result = {}\n",
    "    for index in range(1,len(csv_file[0])):\n",
    "        result[csv_file[0][index]] = int(csv_file[1][index])\n",
    "    return result\n",
    "    \n",
    "\n",
    "def calc_skipping_ratio(scores):\n",
    "    countSkipped = 0\n",
    "    for score in scores:\n",
    "        if score < 0:\n",
    "            countSkipped += 1\n",
    "    return round(countSkipped*1.0/len(scores)*1.0,2)\n",
    "\n",
    "def calc_avg_score(scores):\n",
    "    countSkipped = 0\n",
    "    sumScores = 0\n",
    "    for score in scores:\n",
    "        if score < 0:\n",
    "            countSkipped += 1\n",
    "        else:\n",
    "            sumScores += score\n",
    "                \n",
    "    if len(scores)-countSkipped == 0:\n",
    "        return 0\n",
    "    else:\n",
    "        return round(sumScores*1.0/(len(scores)*1.0-countSkipped*1.0),2)\n",
    "    \n",
    "lenStudentBehavior = len(pd.read_json(\"studentBehaviorInfoOver40Class_1213.json\"))\n",
    "usersProfilesJsonWithIndexes = {}\n",
    "video_to_cluster = parse_csv_file(csv_file)\n",
    "for index in range(lenStudentBehavior):\n",
    "    memberId = studentBehavior[index][\"memberId\"]\n",
    "    if memberId not in usersProfilesJsonWithIndexes:\n",
    "        studentProfile                          = {}\n",
    "        studentProfile[\"memberId\"]              = memberId\n",
    "        studentProfile[\"videoSequence\"]         = []\n",
    "        studentProfile[\"skippingRatioSequence\"] = []\n",
    "        studentProfile[\"avgScoreSequence\"]         = []\n",
    "        studentProfile[\"dictionarySequence\"]    = []\n",
    "        studentProfile[\"skippingIndex\"]         = -1\n",
    "        studentProfile[\"clusterSequence\"]       = []\n",
    "        usersProfilesJsonWithIndexes[memberId] = studentProfile\n",
    "    \n",
    "    # Addid values for every key\n",
    "    # Video Sequence\n",
    "    usersProfilesJsonWithIndexes[memberId][\"videoSequence\"].extend(studentBehavior[index][\"chosenVideo\"])\n",
    "    \n",
    "    \n",
    "    videos_scores = parse_video_scores(studentBehavior[index][\"listenScore\"])\n",
    "    video_words = parse_video_words(studentBehavior[index][\"vocabularyList\"])\n",
    "    \n",
    "    \n",
    "    # SkippingRationSequence\n",
    "    for video in studentBehavior[index][\"chosenVideo\"]:\n",
    "        scores = videos_scores[video]\n",
    "        usersProfilesJsonWithIndexes[memberId][\"skippingRatioSequence\"].append(calc_skipping_ratio(scores))\n",
    "        # Average Score Sequence\n",
    "        avg = calc_avg_score(scores)\n",
    "        usersProfilesJsonWithIndexes[memberId][\"avgScoreSequence\"].append(avg)\n",
    "        \n",
    "        # DictionarySequence\n",
    "        if str(video) in video_words:\n",
    "            words = video_words[str(video)]\n",
    "            usersProfilesJsonWithIndexes[memberId][\"dictionarySequence\"].append(len(words))\n",
    "        else:\n",
    "            usersProfilesJsonWithIndexes[memberId][\"dictionarySequence\"].append(0)\n",
    "            \n",
    "        # ClusterSequece\n",
    "        usersProfilesJsonWithIndexes[memberId][\"clusterSequence\"].append(video_to_cluster[str(video)])\n",
    "            \n",
    "        \n",
    "    # skippingIndex\n",
    "    skip_index = [ n for n,i in enumerate(usersProfilesJsonWithIndexes[memberId][\"skippingRatioSequence\"]) if i>0.0 ][0]\n",
    "    usersProfilesJsonWithIndexes[memberId][\"skippingIndex\"] = skip_index\n",
    "        \n",
    "    \n",
    "    \n",
    "print(usersProfilesJsonWithIndexes['118065'])\n",
    "fileStudentProfile = open(\"studentProfile.json\", \"w\")\n",
    "fileStudentProfile.write(\"[\")\n",
    "lenObjects = len(usersProfilesJsonWithIndexes)\n",
    "it = 0\n",
    "for key, value in usersProfilesJsonWithIndexes.items():\n",
    "    json.dump(value,fileStudentProfile)\n",
    "    if it != (lenObjects-1):\n",
    "        fileStudentProfile.write(\", \")\n",
    "    it = it + 1\n",
    "    \n",
    "\n",
    "\n",
    "fileStudentProfile.write(\"]\")\n",
    "fileStudentProfile.close()"
   ]
  },
  {
   "cell_type": "markdown",
   "metadata": {},
   "source": [
    "# Notes\n",
    "\n",
    "1. We have three different skipRatio behavior\n",
    "    User that goes from 0 to 1\n",
    "    Users that goes from 0 to [a range gratter than 0] and stop\n",
    "    Users that goes from 0 to [a range gratter than 0] and then skippRation 1\n",
    "\n",
    "2. The skipIndex shows the index where the skipRation is gratter than 0\n",
    "    \n"
   ]
  },
  {
   "cell_type": "code",
   "execution_count": null,
   "metadata": {
    "collapsed": true
   },
   "outputs": [],
   "source": []
  }
 ],
 "metadata": {
  "anaconda-cloud": {},
  "kernelspec": {
   "display_name": "Python [conda root]",
   "language": "python",
   "name": "conda-root-py"
  },
  "language_info": {
   "codemirror_mode": {
    "name": "ipython",
    "version": 3
   },
   "file_extension": ".py",
   "mimetype": "text/x-python",
   "name": "python",
   "nbconvert_exporter": "python",
   "pygments_lexer": "ipython3",
   "version": "3.5.2"
  }
 },
 "nbformat": 4,
 "nbformat_minor": 2
}
