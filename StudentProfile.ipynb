{
 "cells": [
  {
   "cell_type": "code",
   "execution_count": 1,
   "metadata": {
    "collapsed": false
   },
   "outputs": [],
   "source": [
    "import pandas as pd\n",
    "import urllib\n",
    "import time\n",
    "import json"
   ]
  },
  {
   "cell_type": "code",
   "execution_count": 2,
   "metadata": {
    "collapsed": true
   },
   "outputs": [],
   "source": [
    "studentBehavior = pd.read_json(\"studentBehaviorInfoOver40Class_1213.json\", orient=\"index\")"
   ]
  },
  {
   "cell_type": "code",
   "execution_count": 39,
   "metadata": {
    "collapsed": false
   },
   "outputs": [
    {
     "name": "stdout",
     "output_type": "stream",
     "text": [
      "chosenVideo        [3913, 5186, 4974, 4802, 3711, 5881, 7126, 5797]\n",
      "listenScore       [{'postId': 3913, 'score': 93}, {'postId': 391...\n",
      "memberId                                                      50679\n",
      "vocabularyList    [{'postId': '5797', 'word': 'devil'}, {'postId...\n",
      "Name: 0, dtype: object\n",
      "[{'postId': '5797', 'word': 'devil'}, {'postId': '3913', 'word': 'Will Shakespeare'}, {'postId': '3913', 'word': 'stage'}, {'postId': '3913', 'word': 'articulate'}, {'postId': '3913', 'word': ' accent'}, {'postId': '3913', 'word': 'mother tongue'}, {'postId': '3913', 'word': 'ton'}, {'postId': '3913', 'word': 'whole'}, {'postId': '3913', 'word': ' rhythm'}, {'postId': '3913', 'word': 'pattern '}, {'postId': '3913', 'word': 'drum'}, {'postId': '3913', 'word': 'beat'}, {'postId': '3913', 'word': 'melody'}, {'postId': '3913', 'word': 'particularly'}, {'postId': '3913', 'word': 'get rid of'}, {'postId': '3913', 'word': ' imitate'}, {'postId': '3913', 'word': 'master'}, {'postId': '3913', 'word': 'phrase'}, {'postId': '3913', 'word': 'exaggerate'}, {'postId': '3913', 'word': 'articulation'}, {'postId': '3913', 'word': 'cheek'}, {'postId': '3913', 'word': ' lip'}, {'postId': '3913', 'word': 'Tongue Twisters'}, {'postId': '3913', 'word': 'shell'}, {'postId': '3913', 'word': 'seashore'}, {'postId': '3913', 'word': ' shortcut'}, {'postId': '3913', 'word': ' diminish'}, {'postId': '5186', 'word': 'bunny'}, {'postId': '5186', 'word': 'rabbit'}, {'postId': '5186', 'word': ' bowl'}, {'postId': '5186', 'word': 'throughout'}, {'postId': '5186', 'word': ' goddess'}, {'postId': '5186', 'word': 'Harvest Moon Festival'}, {'postId': '5186', 'word': 'giant'}, {'postId': '5186', 'word': 'dress'}, {'postId': '5186', 'word': 'awesome'}, {'postId': '5186', 'word': 'scary'}, {'postId': '5186', 'word': 'underneath'}, {'postId': '5186', 'word': 'costume'}, {'postId': '5186', 'word': 'stuff'}, {'postId': '5186', 'word': 'mention'}, {'postId': '5186', 'word': ' Yum'}, {'postId': '4974', 'word': 'vaccinate'}, {'postId': '4974', 'word': 'against'}, {'postId': '5797', 'word': 'catastrophic'}, {'postId': '4974', 'word': 'pretty'}, {'postId': '4974', 'word': 'realize'}, {'postId': '4974', 'word': 'certainly'}, {'postId': '4974', 'word': 'bullet-shaped'}, {'postId': '4974', 'word': 'Antarctica'}, {'postId': '4974', 'word': 'continent'}, {'postId': '4974', 'word': 'mammal'}, {'postId': '4974', 'word': 'vampire bat'}, {'postId': '4974', 'word': 'wildlife'}, {'postId': '4974', 'word': 'raccoon'}, {'postId': '4974', 'word': 'skunk'}, {'postId': '4974', 'word': 'species'}, {'postId': '4974', 'word': 'spreading '}, {'postId': '4974', 'word': 'feral'}, {'postId': '4974', 'word': 'wolves'}, {'postId': '4974', 'word': 'mongoose'}, {'postId': '4974', 'word': 'jackal'}, {'postId': '4974', 'word': 'wrap'}, {'postId': '4974', 'word': 'resist'}, {'postId': '4974', 'word': 'pet'}, {'postId': '4974', 'word': 'expose'}, {'postId': '4974', 'word': 'Pet'}, {'postId': '4974', 'word': 'veterinarian'}, {'postId': '4974', 'word': 'saliva'}, {'postId': '4974', 'word': 'milliliter'}, {'postId': '4974', 'word': 'contain'}, {'postId': '4974', 'word': 'particle'}, {'postId': '4974', 'word': 'victim'}, {'postId': '4974', 'word': 'multiplies'}, {'postId': '4974', 'word': 'nerves'}, {'postId': '5797', 'word': 'adamant'}, {'postId': '4974', 'word': 'strangely'}, {'postId': '4974', 'word': 'approach'}, {'postId': '4974', 'word': 'attack'}, {'postId': '4974', 'word': 'likely'}, {'postId': '4974', 'word': 'fly into'}, {'postId': '4974', 'word': 'onto'}, {'postId': '4974', 'word': 'aggressive'}, {'postId': '4974', 'word': 'bark'}, {'postId': '4974', 'word': 'droopy '}, {'postId': '4974', 'word': 'tongue'}, {'postId': '4974', 'word': 'paralyzed'}, {'postId': '4974', 'word': 'symptom'}, {'postId': '4974', 'word': 'choke '}, {'postId': '4974', 'word': 'seem'}, {'postId': '4974', 'word': 'overreact '}, {'postId': '4974', 'word': 'severe'}, {'postId': '4974', 'word': 'coma'}, {'postId': '4974', 'word': 'scary'}, {'postId': '4974', 'word': 'handle'}, {'postId': '4974', 'word': 'stray '}, {'postId': '4974', 'word': 'injure'}, {'postId': '4974', 'word': 'teeth'}, {'postId': '4974', 'word': 'luckily'}, {'postId': '4974', 'word': 'wound'}, {'postId': '4974', 'word': 'thoroughly'}, {'postId': '4974', 'word': 'seek'}, {'postId': '4974', 'word': 'immediate'}, {'postId': '4974', 'word': 'sneak'}, {'postId': '4974', 'word': 'ferret'}, {'postId': '4974', 'word': 'as well'}, {'postId': '4974', 'word': ' folk'}, {'postId': '4974', 'word': 'vaccine'}, {'postId': '4974', 'word': 'horrible'}, {'postId': '4974', 'word': 'used to'}, {'postId': '4974', 'word': 'grim'}, {'postId': '4974', 'word': 'deadly '}, {'postId': '4974', 'word': 'prevent'}, {'postId': '4974', 'word': 'permission'}, {'postId': '4974', 'word': 'Veterinary'}, {'postId': '4974', 'word': 'vaccination'}, {'postId': '4974', 'word': 'Veterinary'}, {'postId': '4802', 'word': 'inequality'}, {'postId': '4802', 'word': 'reliable'}, {'postId': '4802', 'word': 'turns out '}, {'postId': '4802', 'word': 'planet'}, {'postId': '4802', 'word': 'wealth'}, {'postId': '4802', 'word': 'barely'}, {'postId': '4802', 'word': 'Meanwhile'}, {'postId': '4802', 'word': 'rest '}, {'postId': '4802', 'word': 'representative'}, {'postId': '4802', 'word': 'individual'}, {'postId': '4802', 'word': 'trillion'}, {'postId': '4802', 'word': 'distribute'}, {'postId': '4802', 'word': 'practically'}, {'postId': '4802', 'word': 'accumulated '}, {'postId': '4802', 'word': 'bottom'}, {'postId': '4802', 'word': 'extreme'}, {'postId': '4802', 'word': 'Brazil '}, {'postId': '4802', 'word': 'aircraft'}, {'postId': '4802', 'word': 'geographically'}, {'postId': '4802', 'word': 'versus'}, {'postId': '4802', 'word': 'colonialism'}, {'postId': '4802', 'word': 'compensate '}, {'postId': '4802', 'word': 'aid'}, {'postId': '4802', 'word': 'avoidance '}, {'postId': '4802', 'word': 'mispricing'}, {'postId': '4802', 'word': 'loan'}, {'postId': '4802', 'word': 'impose'}, {'postId': '4802', 'word': 'Massachusetts'}, {'postId': '4802', 'word': 'Economist'}, {'postId': '4802', 'word': 'calculate'}, {'postId': '5797', 'word': 'naturalist'}, {'postId': '4802', 'word': 'concentrate'}, {'postId': '4802', 'word': 'tiny '}, {'postId': '5797', 'word': ' jaw'}, {'postId': '3711', 'word': 'superficial'}, {'postId': '3711', 'word': 'interaction'}, {'postId': '3711', 'word': 'semester'}, {'postId': '3711', 'word': 'fairytale'}, {'postId': '3711', 'word': 'exactly'}, {'postId': '3711', 'word': 'fantasizing'}, {'postId': '3711', 'word': 'reality'}, {'postId': '3711', 'word': ' infatuate'}, {'postId': '3711', 'word': 'sorority'}, {'postId': '3711', 'word': ' bright'}, {'postId': '3711', 'word': 'spirit'}, {'postId': '3711', 'word': 'awkward'}, {'postId': '3711', 'word': 'multiple'}, {'postId': '3711', 'word': 'eventually'}, {'postId': '3711', 'word': 'embodies'}, {'postId': '3711', 'word': 'youth'}, {'postId': '3711', 'word': 'replicate'}, {'postId': '3711', 'word': 'innocence'}, {'postId': '3711', 'word': 'adventure'}, {'postId': '3711', 'word': 'doubt '}, {'postId': '3711', 'word': 'element'}, {'postId': '3711', 'word': 'nostalgic'}, {'postId': '3711', 'word': 'preserve'}, {'postId': '3711', 'word': 'intend'}, {'postId': '3711', 'word': 'internship'}, {'postId': '3711', 'word': 'prove'}, {'postId': '3711', 'word': 'accomplish'}, {'postId': '3711', 'word': 'mature '}, {'postId': '3711', 'word': 'sadden'}, {'postId': '3711', 'word': 'strive'}, {'postId': '3711', 'word': ' fantasy'}, {'postId': '3711', 'word': 'selves '}, {'postId': '3711', 'word': 'reminisce'}, {'postId': '5881', 'word': 'dip'}, {'postId': '5881', 'word': 'chill'}, {'postId': '5881', 'word': 'jet '}, {'postId': '5881', 'word': 'stream '}, {'postId': '5881', 'word': 'oak '}, {'postId': '5881', 'word': 'Pennsylvania'}, {'postId': '5881', 'word': 'chipmunk'}, {'postId': '5881', 'word': 'nut'}, {'postId': '5881', 'word': 'cheek'}, {'postId': '5881', 'word': 'stretch'}, {'postId': '5881', 'word': 'amass'}, {'postId': '5881', 'word': 'burrow'}, {'postId': '5881', 'word': 'alternating'}, {'postId': '5881', 'word': 'beware'}, {'postId': '5881', 'word': 'pickpocket'}, {'postId': '5881', 'word': 'spot'}, {'postId': '5881', 'word': 'burst'}, {'postId': '7126', 'word': 'motley'}, {'postId': '7126', 'word': 'crew '}, {'postId': '7126', 'word': 'cub'}, {'postId': '7126', 'word': 'unlikely  '}, {'postId': '7126', 'word': 'striped'}, {'postId': '7126', 'word': 'hyena'}, {'postId': '7126', 'word': 'Lodge '}, {'postId': '7126', 'word': 'tiny'}, {'postId': '7126', 'word': 'tearaway'}, {'postId': '7126', 'word': 'mischievous'}, {'postId': '7126', 'word': 'insatiable'}, {'postId': '7126', 'word': 'appetite'}, {'postId': '7126', 'word': 'available'}, {'postId': '7126', 'word': 'dominant'}, {'postId': '7126', 'word': 'naughtiest'}, {'postId': '7126', 'word': ' boisterous'}, {'postId': '7126', 'word': 'playful'}, {'postId': '7126', 'word': 'enclosure'}, {'postId': '7126', 'word': 'feisty'}, {'postId': '5797', 'word': 'mammoth'}, {'postId': '5797', 'word': 'extinction'}, {'postId': '5797', 'word': 'extinct'}, {'postId': '5797', 'word': 'concept'}, {'postId': '5797', 'word': 'twofold'}, {'postId': '5797', 'word': ' imagine'}, {'postId': '5797', 'word': 'Irish'}, {'postId': '5797', 'word': 'bishop'}, {'postId': '5797', 'word': 'Bible'}, {'postId': '5797', 'word': 'precisely'}, {'postId': '5797', 'word': ' technically'}, {'postId': '5797', 'word': 'fossil'}, {'postId': '5797', 'word': 'clue'}, {'postId': '5797', 'word': 'existe'}, {'postId': '5797', 'word': ' fossil'}, {'postId': '5797', 'word': 'claim '}, {'postId': '5797', 'word': 'controversial '}, {'postId': '5797', 'word': 'deem'}, {'postId': '5797', 'word': 'flood'}, {'postId': '5797', 'word': 'Scottish'}, {'postId': '5797', 'word': 'concept'}, {'postId': '5797', 'word': 'geology'}, {'postId': '5797', 'word': 'advent'}, {'postId': '5797', 'word': 'radioactive '}, {'postId': '5797', 'word': 'towards '}, {'postId': '5797', 'word': 'species'}, {'postId': '5797', 'word': 'frankly'}, {'postId': '5797', 'word': 'alarming'}, {'postId': '5797', 'word': 'geologist'}, {'postId': '5797', 'word': 'periods of mass extinction'}, {'postId': '5797', 'word': 'mammal'}, {'postId': '5797', 'word': 'dinosaur'}, {'postId': '5797', 'word': 'ancient'}, {'postId': '5797', 'word': 'consign'}, {'postId': '5797', 'word': 'hall'}]\n"
     ]
    }
   ],
   "source": [
    "print(studentBehavior[0])\n",
    "# print studentBehavior[0][\"memberId\"]\n",
    "# print (studentBehavior[0][\"chosenVideo\"])\n",
    "print (studentBehavior[0][\"vocabularyList\"])\n",
    "\n",
    "\n",
    "## Desired json structure\n",
    "# [\n",
    "#     {\n",
    "#         \"memberId\": 12345,\n",
    "#         \"videoSequence\":\n",
    "#             [\n",
    "#                 3980,\n",
    "#                 7680,\n",
    "#                 1235\n",
    "#             ],\n",
    "#         \"skippingRatioSequence\":\n",
    "#             [\n",
    "#                 0,\n",
    "#                 0,\n",
    "#                 0.3\n",
    "#             ],\n",
    "#         \"scoreSequence\":\n",
    "#             [\n",
    "#                 80,\n",
    "#                 70,\n",
    "#                 75\n",
    "#             ],\n",
    "#         \"dictionarySequence\":\n",
    "#             [\n",
    "#                 0,\n",
    "#                 0,\n",
    "#                 0\n",
    "#             ],\n",
    "#         \"skippingIndex\": 10,\n",
    "#         \"clusterSequence\":\n",
    "#             [\n",
    "#                 \"C1\",\n",
    "#                 \"C1\",\n",
    "#                 \"C2\"\n",
    "#             ]\n",
    "        \n",
    "#     }\n",
    "# ]\n",
    "\n"
   ]
  },
  {
   "cell_type": "code",
   "execution_count": 12,
   "metadata": {
    "collapsed": false
   },
   "outputs": [],
   "source": [
    "# Generate Users Profile File\n",
    "\n",
    "# This method return a mapping of video(key) \n",
    "# and and array of scores(value)\n",
    "def parse_video_scores(scores_object):\n",
    "    result = {}\n",
    "    for score in scores_object:\n",
    "        if score['postId'] not in result:\n",
    "            result[score['postId']] = []\n",
    "        result[score['postId']].append(score['score'])\n",
    "    return result\n",
    "            \n",
    "def parse_video_words(words_object):\n",
    "    result = {}\n",
    "    for word in words_object:\n",
    "        if word['postId'] not in result:\n",
    "            result[word['postId']] = []\n",
    "        result[word['postId']].append(word['word'])\n",
    "    return result\n",
    "\n",
    "def calc_skipping_ratio(scores):\n",
    "    countSkipped = 0\n",
    "    for score in scores:\n",
    "        if score < 0:\n",
    "            countSkipped += 1\n",
    "    return round(countSkipped/len(scores),2)\n",
    "\n",
    "def calc_avg_score(scores):\n",
    "    countSkipped = 0\n",
    "    sumScores = 0\n",
    "    for score in scores:\n",
    "        if score < 0:\n",
    "            countSkipped += 1\n",
    "        else:\n",
    "            sumScores += score\n",
    "                \n",
    "    if len(scores)-countSkipped == 0:\n",
    "        return 0\n",
    "    else:\n",
    "        return round(sumScores/(len(scores)-countSkipped),2)\n",
    "    \n",
    "lenStudentBehavior = len(pd.read_json(\"studentBehaviorInfoOver40Class_1213.json\"))\n",
    "usersProfilesJsonWithIndexes = {}\n",
    "for index in range(lenStudentBehavior):\n",
    "    memberId = studentBehavior[index][\"memberId\"]\n",
    "    if memberId not in usersProfilesJsonWithIndexes:\n",
    "        studentProfile                          = {}\n",
    "        studentProfile[\"memberId\"]              = memberId\n",
    "        studentProfile[\"videoSequence\"]         = []\n",
    "        studentProfile[\"skippingRatioSequence\"] = []\n",
    "        studentProfile[\"avgScoreSequence\"]         = []\n",
    "        studentProfile[\"dictionarySequence\"]    = []\n",
    "        studentProfile[\"skippingIndex\"]         = -1\n",
    "        studentProfile[\"clusterSequence\"]       = []\n",
    "        usersProfilesJsonWithIndexes[memberId] = studentProfile\n",
    "    \n",
    "    # Addid values for every key\n",
    "    # Video Sequence\n",
    "    usersProfilesJsonWithIndexes[memberId][\"videoSequence\"].extend(studentBehavior[index][\"chosenVideo\"])\n",
    "    \n",
    "    \n",
    "    videos_scores = parse_video_scores(studentBehavior[index][\"listenScore\"])\n",
    "    video_words = parse_video_words(studentBehavior[index][\"vocabularyList\"])\n",
    "    \n",
    "    # SkippingRationSequence\n",
    "    for video in studentBehavior[index][\"chosenVideo\"]:\n",
    "        scores = videos_scores[video]\n",
    "        usersProfilesJsonWithIndexes[memberId][\"skippingRatioSequence\"].append(calc_skipping_ratio(scores))\n",
    "        # Average Score Sequence\n",
    "        avg = calc_avg_score(scores)\n",
    "        usersProfilesJsonWithIndexes[memberId][\"avgScoreSequence\"].append(avg)\n",
    "        \n",
    "        # DictionarySequence\n",
    "        if str(video) in video_words:\n",
    "            words = video_words[str(video)]\n",
    "            usersProfilesJsonWithIndexes[memberId][\"dictionarySequence\"].append(len(words))\n",
    "        else:\n",
    "            usersProfilesJsonWithIndexes[memberId][\"dictionarySequence\"].append(0)\n",
    "            \n",
    "        \n",
    "    # skippingIndex\n",
    "    skip_index = [ n for n,i in enumerate(usersProfilesJsonWithIndexes[memberId][\"skippingRatioSequence\"]) if i>0.0 ][0]\n",
    "    usersProfilesJsonWithIndexes[memberId][\"skippingIndex\"] = skip_index\n",
    "        \n",
    "    # ClusterSequece\n",
    "    \n",
    "\n",
    "fileStudentProfile = open(\"studentProfile.json\", \"w\")\n",
    "fileStudentProfile.write(\"[\")\n",
    "lenObjects = len(usersProfilesJsonWithIndexes)\n",
    "it = 0\n",
    "for key, value in usersProfilesJsonWithIndexes.items():\n",
    "    json.dump(value,fileStudentProfile)\n",
    "    if it != (lenObjects-1):\n",
    "        fileStudentProfile.write(\", \")\n",
    "    it = it + 1\n",
    "    \n",
    "\n",
    "\n",
    "fileStudentProfile.write(\"]\")\n",
    "fileStudentProfile.close()"
   ]
  },
  {
   "cell_type": "markdown",
   "metadata": {},
   "source": [
    "# Notes\n",
    "\n",
    "1. We have three different skipRatio behavior\n",
    "    User that goes from 0 to 1\n",
    "    Users that goes from 0 to [a range gratter than 0] and stop\n",
    "    Users that goes from 0 to [a range gratter than 0] and then skippRation 1\n",
    "\n",
    "2. The skipIndex shows the index where the skipRation is gratter than 0\n",
    "    \n"
   ]
  },
  {
   "cell_type": "code",
   "execution_count": null,
   "metadata": {
    "collapsed": true
   },
   "outputs": [],
   "source": []
  }
 ],
 "metadata": {
  "anaconda-cloud": {},
  "kernelspec": {
   "display_name": "Python [conda root]",
   "language": "python",
   "name": "conda-root-py"
  },
  "language_info": {
   "codemirror_mode": {
    "name": "ipython",
    "version": 3
   },
   "file_extension": ".py",
   "mimetype": "text/x-python",
   "name": "python",
   "nbconvert_exporter": "python",
   "pygments_lexer": "ipython3",
   "version": "3.5.2"
  }
 },
 "nbformat": 4,
 "nbformat_minor": 2
}
