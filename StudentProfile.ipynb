{
 "cells": [
  {
   "cell_type": "code",
   "execution_count": 1,
   "metadata": {
    "collapsed": true
   },
   "outputs": [],
   "source": [
    "import pandas as pd\n",
    "import urllib2\n",
    "import time\n",
    "import json\n",
    "\n",
    "    "
   ]
  },
  {
   "cell_type": "code",
   "execution_count": 2,
   "metadata": {
    "collapsed": true
   },
   "outputs": [],
   "source": [
    "studentBehavior = pd.read_json(\"studentBehaviorInfoOver40Class_1213.json\", orient=\"index\")"
   ]
  },
  {
   "cell_type": "code",
   "execution_count": 3,
   "metadata": {
    "collapsed": false
   },
   "outputs": [
    {
     "name": "stdout",
     "output_type": "stream",
     "text": [
      "chosenVideo        [3913, 5186, 4974, 4802, 3711, 5881, 7126, 5797]\n",
      "listenScore       [{u'postId': 3913, u'score': 93}, {u'postId': ...\n",
      "memberId                                                      50679\n",
      "vocabularyList    [{u'postId': u'5797', u'word': u'devil'}, {u'p...\n",
      "Name: 0, dtype: object\n",
      "[{u'postId': 3913, u'score': 93}, {u'postId': 3913, u'score': 91}, {u'postId': 3913, u'score': 92}, {u'postId': 3913, u'score': 92}, {u'postId': 3913, u'score': 92}, {u'postId': 5186, u'score': 93}, {u'postId': 5186, u'score': 94}, {u'postId': 5186, u'score': 93}, {u'postId': 4974, u'score': 90}, {u'postId': 4974, u'score': 80}, {u'postId': 4974, u'score': 77}, {u'postId': 4974, u'score': 96}, {u'postId': 4974, u'score': 86}, {u'postId': 4974, u'score': 97}, {u'postId': 4974, u'score': 90}, {u'postId': 4974, u'score': 95}, {u'postId': 4974, u'score': 95}, {u'postId': 4974, u'score': 98}, {u'postId': 4974, u'score': 91}, {u'postId': 4974, u'score': 86}, {u'postId': 4974, u'score': 95}, {u'postId': 4974, u'score': 86}, {u'postId': 4802, u'score': 85}, {u'postId': 4802, u'score': 90}, {u'postId': 4802, u'score': 90}, {u'postId': 4802, u'score': 93}, {u'postId': 4802, u'score': 90}, {u'postId': 4802, u'score': 93}, {u'postId': 3711, u'score': 92}, {u'postId': 3711, u'score': 88}, {u'postId': 3711, u'score': 99}, {u'postId': 3711, u'score': 94}, {u'postId': 3711, u'score': 98}, {u'postId': 3711, u'score': 91}, {u'postId': 3711, u'score': 95}, {u'postId': 5881, u'score': 90}, {u'postId': 5881, u'score': 94}, {u'postId': 7126, u'score': 77}, {u'postId': 7126, u'score': 79}, {u'postId': 7126, u'score': -1}, {u'postId': 5797, u'score': -1}, {u'postId': 5797, u'score': -1}, {u'postId': 5797, u'score': -1}, {u'postId': 5797, u'score': -1}, {u'postId': 5797, u'score': -1}]\n"
     ]
    }
   ],
   "source": [
    "print studentBehavior[0]\n",
    "# print studentBehavior[0][\"memberId\"]\n",
    "# print (studentBehavior[0][\"chosenVideo\"])\n",
    "print (studentBehavior[0][\"listenScore\"])\n",
    "\n",
    "\n",
    "## Desired json structure\n",
    "# [\n",
    "#     {\n",
    "#         \"memberId\": 12345,\n",
    "#         \"videoSequence\":\n",
    "#             [\n",
    "#                 3980,\n",
    "#                 7680,\n",
    "#                 1235\n",
    "#             ],\n",
    "#         \"skippingRatioSequence\":\n",
    "#             [\n",
    "#                 0,\n",
    "#                 0,\n",
    "#                 0.3\n",
    "#             ],\n",
    "#         \"scoreSequence\":\n",
    "#             [\n",
    "#                 80,\n",
    "#                 70,\n",
    "#                 75\n",
    "#             ],\n",
    "#         \"dictionarySequence\":\n",
    "#             [\n",
    "#                 0,\n",
    "#                 0,\n",
    "#                 0\n",
    "#             ],\n",
    "#         \"skippingIndex\": 10,\n",
    "#         \"clusterSequence\":\n",
    "#             [\n",
    "#                 \"C1\",\n",
    "#                 \"C1\",\n",
    "#                 \"C2\"\n",
    "#             ]\n",
    "        \n",
    "#     }\n",
    "# ]\n",
    "\n"
   ]
  },
  {
   "cell_type": "code",
   "execution_count": 10,
   "metadata": {
    "collapsed": false
   },
   "outputs": [],
   "source": [
    "lenStudentBehavior = len(pd.read_json(\"studentBehaviorInfoOver40Class_1213.json\"))\n",
    "usersProfilesJsonWithIndexes = {}\n",
    "for index in range(lenStudentBehavior):\n",
    "    if studentBehavior[index][\"memberId\"] not in usersProfilesJsonWithIndexes:\n",
    "        studentProfile                          = {}\n",
    "        studentProfile[\"memberId\"]              = studentBehavior[index][\"memberId\"]\n",
    "        studentProfile[\"videoSequence\"]         = []\n",
    "        studentProfile[\"skippingRatioSequence\"] = []\n",
    "        studentProfile[\"scoreSequence\"]         = []\n",
    "        studentProfile[\"dictionarySequence\"]    = []\n",
    "        studentProfile[\"skippingIndex\"]         = -1\n",
    "        studentProfile[\"clusterSequence\"]       = []\n",
    "        usersProfilesJsonWithIndexes[studentBehavior[index][\"memberId\"]] = studentProfile\n",
    "    \n",
    "    usersProfilesJsonWithIndexes[studentBehavior[index][\"memberId\"]][\"videoSequence\"].extend(studentBehavior[index][\"chosenVideo\"])\n",
    "\n",
    "fileStudentProfile = open(\"studentProfile.json\", \"w\")\n",
    "fileStudentProfile.write(\"[\")\n",
    "lenObjects = len(usersProfilesJsonWithIndexes)\n",
    "it = 0\n",
    "for key, value in usersProfilesJsonWithIndexes.items():\n",
    "    json.dump(value,fileStudentProfile)\n",
    "    if it != (lenObjects-1):\n",
    "        fileStudentProfile.write(\", \")\n",
    "    it = it + 1\n",
    "    \n",
    "\n",
    "\n",
    "fileStudentProfile.write(\"]\")\n",
    "fileStudentProfile.close()"
   ]
  },
  {
   "cell_type": "code",
   "execution_count": null,
   "metadata": {
    "collapsed": true
   },
   "outputs": [],
   "source": []
  }
 ],
 "metadata": {
  "kernelspec": {
   "display_name": "Python [conda env:dataexploration27]",
   "language": "python",
   "name": "conda-env-dataexploration27-py"
  },
  "language_info": {
   "codemirror_mode": {
    "name": "ipython",
    "version": 2
   },
   "file_extension": ".py",
   "mimetype": "text/x-python",
   "name": "python",
   "nbconvert_exporter": "python",
   "pygments_lexer": "ipython2",
   "version": "2.7.12"
  }
 },
 "nbformat": 4,
 "nbformat_minor": 2
}
