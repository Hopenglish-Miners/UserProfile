{
 "cells": [
  {
   "cell_type": "code",
   "execution_count": 4,
   "metadata": {
    "collapsed": false
   },
   "outputs": [],
   "source": [
    "import pandas as pd\n",
    "import urllib\n",
    "import time\n",
    "import json\n",
    "\n",
    "    "
   ]
  },
  {
   "cell_type": "code",
   "execution_count": 5,
   "metadata": {
    "collapsed": true
   },
   "outputs": [],
   "source": [
    "studentBehavior = pd.read_json(\"studentBehaviorInfoOver40Class_1213.json\", orient=\"index\")"
   ]
  },
  {
   "cell_type": "code",
   "execution_count": 6,
   "metadata": {
    "collapsed": false
   },
   "outputs": [
    {
     "name": "stdout",
     "output_type": "stream",
     "text": [
      "chosenVideo        [3913, 5186, 4974, 4802, 3711, 5881, 7126, 5797]\n",
      "listenScore       [{'postId': 3913, 'score': 93}, {'postId': 391...\n",
      "memberId                                                      50679\n",
      "vocabularyList    [{'postId': '5797', 'word': 'devil'}, {'postId...\n",
      "Name: 0, dtype: object\n",
      "[{'postId': 3913, 'score': 93}, {'postId': 3913, 'score': 91}, {'postId': 3913, 'score': 92}, {'postId': 3913, 'score': 92}, {'postId': 3913, 'score': 92}, {'postId': 5186, 'score': 93}, {'postId': 5186, 'score': 94}, {'postId': 5186, 'score': 93}, {'postId': 4974, 'score': 90}, {'postId': 4974, 'score': 80}, {'postId': 4974, 'score': 77}, {'postId': 4974, 'score': 96}, {'postId': 4974, 'score': 86}, {'postId': 4974, 'score': 97}, {'postId': 4974, 'score': 90}, {'postId': 4974, 'score': 95}, {'postId': 4974, 'score': 95}, {'postId': 4974, 'score': 98}, {'postId': 4974, 'score': 91}, {'postId': 4974, 'score': 86}, {'postId': 4974, 'score': 95}, {'postId': 4974, 'score': 86}, {'postId': 4802, 'score': 85}, {'postId': 4802, 'score': 90}, {'postId': 4802, 'score': 90}, {'postId': 4802, 'score': 93}, {'postId': 4802, 'score': 90}, {'postId': 4802, 'score': 93}, {'postId': 3711, 'score': 92}, {'postId': 3711, 'score': 88}, {'postId': 3711, 'score': 99}, {'postId': 3711, 'score': 94}, {'postId': 3711, 'score': 98}, {'postId': 3711, 'score': 91}, {'postId': 3711, 'score': 95}, {'postId': 5881, 'score': 90}, {'postId': 5881, 'score': 94}, {'postId': 7126, 'score': 77}, {'postId': 7126, 'score': 79}, {'postId': 7126, 'score': -1}, {'postId': 5797, 'score': -1}, {'postId': 5797, 'score': -1}, {'postId': 5797, 'score': -1}, {'postId': 5797, 'score': -1}, {'postId': 5797, 'score': -1}]\n"
     ]
    }
   ],
   "source": [
    "print(studentBehavior[0])\n",
    "# print studentBehavior[0][\"memberId\"]\n",
    "# print (studentBehavior[0][\"chosenVideo\"])\n",
    "print (studentBehavior[0][\"listenScore\"])\n",
    "\n",
    "\n",
    "## Desired json structure\n",
    "# [\n",
    "#     {\n",
    "#         \"memberId\": 12345,\n",
    "#         \"videoSequence\":\n",
    "#             [\n",
    "#                 3980,\n",
    "#                 7680,\n",
    "#                 1235\n",
    "#             ],\n",
    "#         \"skippingRatioSequence\":\n",
    "#             [\n",
    "#                 0,\n",
    "#                 0,\n",
    "#                 0.3\n",
    "#             ],\n",
    "#         \"scoreSequence\":\n",
    "#             [\n",
    "#                 80,\n",
    "#                 70,\n",
    "#                 75\n",
    "#             ],\n",
    "#         \"dictionarySequence\":\n",
    "#             [\n",
    "#                 0,\n",
    "#                 0,\n",
    "#                 0\n",
    "#             ],\n",
    "#         \"skippingIndex\": 10,\n",
    "#         \"clusterSequence\":\n",
    "#             [\n",
    "#                 \"C1\",\n",
    "#                 \"C1\",\n",
    "#                 \"C2\"\n",
    "#             ]\n",
    "        \n",
    "#     }\n",
    "# ]\n",
    "\n"
   ]
  },
  {
   "cell_type": "code",
   "execution_count": 24,
   "metadata": {
    "collapsed": false
   },
   "outputs": [],
   "source": [
    "# Generate Users Profile File\n",
    "\n",
    "# This method return a mapping of video(key) \n",
    "# and and array of scores(value)\n",
    "def parse_video_scores(scores_object):\n",
    "    result = {}\n",
    "    for score in scores_object:\n",
    "        if score['postId'] not in result:\n",
    "            result[score['postId']] = []\n",
    "        result[score['postId']].append(score['score'])\n",
    "    return result\n",
    "            \n",
    "def calc_skipping_ratio(scores):\n",
    "    countSkipped = 0\n",
    "    for score in scores:\n",
    "        if score < 0:\n",
    "            countSkipped += 1\n",
    "    return round(countSkipped/len(scores),2)\n",
    "\n",
    "def calc_avg_score(scores):\n",
    "    countSkipped = 0\n",
    "    sumScores = 0\n",
    "    for score in scores:\n",
    "        if score < 0:\n",
    "            countSkipped += 1\n",
    "        else:\n",
    "            sumScores += score\n",
    "                \n",
    "    if len(scores)-countSkipped == 0:\n",
    "        return 0\n",
    "    else:\n",
    "        return round(sumScores/(len(scores)-countSkipped),2)\n",
    "    \n",
    "lenStudentBehavior = len(pd.read_json(\"studentBehaviorInfoOver40Class_1213.json\"))\n",
    "usersProfilesJsonWithIndexes = {}\n",
    "for index in range(lenStudentBehavior):\n",
    "    memberId = studentBehavior[index][\"memberId\"]\n",
    "    if memberId not in usersProfilesJsonWithIndexes:\n",
    "        studentProfile                          = {}\n",
    "        studentProfile[\"memberId\"]              = memberId\n",
    "        studentProfile[\"videoSequence\"]         = []\n",
    "        studentProfile[\"skippingRatioSequence\"] = []\n",
    "        studentProfile[\"avgScoreSequence\"]         = []\n",
    "        studentProfile[\"dictionarySequence\"]    = []\n",
    "        studentProfile[\"skippingIndex\"]         = -1\n",
    "        studentProfile[\"clusterSequence\"]       = []\n",
    "        usersProfilesJsonWithIndexes[memberId] = studentProfile\n",
    "    \n",
    "    # Addid values for every key\n",
    "    # Video Sequence\n",
    "    usersProfilesJsonWithIndexes[memberId][\"videoSequence\"].extend(studentBehavior[index][\"chosenVideo\"])\n",
    "    \n",
    "    \n",
    "    videos_scores = parse_video_scores(studentBehavior[index][\"listenScore\"])\n",
    "    \n",
    "    # SkippingRationSequence\n",
    "    for video in studentBehavior[index][\"chosenVideo\"]:\n",
    "        scores = videos_scores[video]\n",
    "        usersProfilesJsonWithIndexes[memberId][\"skippingRatioSequence\"].append(calc_skipping_ratio(scores))\n",
    "        # Average Score Sequence\n",
    "        avg = calc_avg_score(scores)\n",
    "        usersProfilesJsonWithIndexes[memberId][\"avgScoreSequence\"].append(avg)\n",
    "        \n",
    "    # DictionarySequence\n",
    "    \n",
    "        \n",
    "    # skippingIndex\n",
    "    skip_index = [ n for n,i in enumerate(usersProfilesJsonWithIndexes[memberId][\"skippingRatioSequence\"]) if i>0.0 ][0]\n",
    "    usersProfilesJsonWithIndexes[memberId][\"skippingIndex\"] = skip_index\n",
    "        \n",
    "    # ClusterSequece\n",
    "    \n",
    "\n",
    "fileStudentProfile = open(\"studentProfile.json\", \"w\")\n",
    "fileStudentProfile.write(\"[\")\n",
    "lenObjects = len(usersProfilesJsonWithIndexes)\n",
    "it = 0\n",
    "for key, value in usersProfilesJsonWithIndexes.items():\n",
    "    json.dump(value,fileStudentProfile)\n",
    "    if it != (lenObjects-1):\n",
    "        fileStudentProfile.write(\", \")\n",
    "    it = it + 1\n",
    "    \n",
    "\n",
    "\n",
    "fileStudentProfile.write(\"]\")\n",
    "fileStudentProfile.close()"
   ]
  },
  {
   "cell_type": "markdown",
   "metadata": {},
   "source": [
    "# Notes\n",
    "\n",
    "1. We have three different skipRatio behavior\n",
    "    User that goes from 0 to 1\n",
    "    Users that goes from 0 to [a range gratter than 0] and stop\n",
    "    Users that goes from 0 to [a range gratter than 0] and then skippRation 1\n",
    "\n",
    "2. The skipIndex shows the index where the skipRation is gratter than 0\n",
    "    \n"
   ]
  },
  {
   "cell_type": "code",
   "execution_count": null,
   "metadata": {
    "collapsed": true
   },
   "outputs": [],
   "source": []
  }
 ],
 "metadata": {
  "anaconda-cloud": {},
  "kernelspec": {
   "display_name": "Python [conda root]",
   "language": "python",
   "name": "conda-root-py"
  },
  "language_info": {
   "codemirror_mode": {
    "name": "ipython",
    "version": 3
   },
   "file_extension": ".py",
   "mimetype": "text/x-python",
   "name": "python",
   "nbconvert_exporter": "python",
   "pygments_lexer": "ipython3",
   "version": "3.5.2"
  }
 },
 "nbformat": 4,
 "nbformat_minor": 2
}
