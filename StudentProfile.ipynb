{
 "cells": [
  {
   "cell_type": "code",
   "execution_count": 1,
   "metadata": {
    "collapsed": false
   },
   "outputs": [],
   "source": [
    "import pandas as pd\n",
    "import urllib\n",
    "import time\n",
    "import json"
   ]
  },
  {
   "cell_type": "code",
   "execution_count": 37,
   "metadata": {
    "collapsed": false
   },
   "outputs": [],
   "source": [
    "studentBehavior = pd.read_json(\"studentBehaviorInfoOver40Class_1213.json\", orient=\"index\")\n",
    "csv_file = pd.read_csv(\"clusteringData.csv\",header=None)"
   ]
  },
  {
   "cell_type": "code",
   "execution_count": 34,
   "metadata": {
    "collapsed": false
   },
   "outputs": [
    {
     "name": "stdout",
     "output_type": "stream",
     "text": [
      "13354\n"
     ]
    }
   ],
   "source": [
    "# print(studentBehavior[0])\n",
    "# print studentBehavior[0][\"memberId\"]\n",
    "# print (studentBehavior[0][\"chosenVideo\"])\n",
    "# print (studentBehavior[0][\"vocabularyList\"])\n",
    "print(video_to_cluster)\n",
    "\n",
    "## Desired json structure\n",
    "# [\n",
    "#     {\n",
    "#         \"memberId\": 12345,\n",
    "#         \"videoSequence\":\n",
    "#             [\n",
    "#                 3980,\n",
    "#                 7680,\n",
    "#                 1235\n",
    "#             ],\n",
    "#         \"skippingRatioSequence\":\n",
    "#             [\n",
    "#                 0,\n",
    "#                 0,\n",
    "#                 0.3\n",
    "#             ],\n",
    "#         \"scoreSequence\":\n",
    "#             [\n",
    "#                 80,\n",
    "#                 70,\n",
    "#                 75\n",
    "#             ],\n",
    "#         \"dictionarySequence\":\n",
    "#             [\n",
    "#                 0,\n",
    "#                 0,\n",
    "#                 0\n",
    "#             ],\n",
    "#         \"skippingIndex\": 10,\n",
    "#         \"clusterSequence\":\n",
    "#             [\n",
    "#                 \"C1\",\n",
    "#                 \"C1\",\n",
    "#                 \"C2\"\n",
    "#             ]\n",
    "        \n",
    "#     }\n",
    "# ]\n",
    "\n"
   ]
  },
  {
   "cell_type": "code",
   "execution_count": 40,
   "metadata": {
    "collapsed": false
   },
   "outputs": [
    {
     "name": "stdout",
     "output_type": "stream",
     "text": [
      "{'13002': 1, '11857': 3, '3762': 0, '5797': 4, '14028': 4, '12908': 3, '12912': 4, '13507': 3, '4332': 0, '12312': 0, '10457': 0, '8919': 4, '7130': 0, '10303': 2, '13705': 3, '9916': 2, '12984': 1, '10249': 4, '11399': 3, '10570': 1, '10565': 2, '6061': 0, '10459': 2, '10858': 4, '12129': 0, '4215': 0, '12316': 4, '10257': 3, '8854': 1, '14193': 3, '12669': 3, '10022': 2, '14708': 4, '5806': 1, '8457': 2, '13298': 0, '5194': 1, '8700': 1, '10568': 2, '13388': 1, '14293': 3, '10073': 2, '5881': 2, '13394': 2, '13187': 0, '10023': 3, '10177': 2, '10201': 1, '50': 2, '13500': 2, '4974': 4, '11406': 0, '8918': 3, '14706': 3, '8701': 1, '13004': 4, '4522': 4, '4163': 4, '14707': 2, '10074': 3, '13296': 2, '12665': 4, '9771': 3, '14208': 1, '8917': 3, '11621': 1, '12062': 0, '13572': 1, '12601': 2, '12597': 2, '11853': 4, '11700': 0, '4561': 4, '9770': 0, '13392': 1, '13506': 4, '10573': 1, '13498': 2, '12216': 1, '10021': 2, '2093': 3, '6420': 4, '14391': 1, '4336': 4, '8200': 2, '12134': 4, '4802': 2, '13292': 3, '5433': 1, '11863': 1, '11855': 0, '12947': 2, '13724': 3, '14709': 1, '13010': 2, '12594': 2, '13302': 1, '12951': 1, '8456': 4, '13103': 1, '9580': 2, '8545': 3, '5845': 2, '5085': 1, '13183': 3, '15055': 1, '10537': 2, '14033': 2, '13294': 2, '13102': 2, '9582': 4, '12910': 0, '10301': 1, '9626': 3, '14194': 1, '10860': 2, '13104': 3, '10020': 2, '14807': 0, '12220': 3, '13354': 1, '12671': 3, '8199': 4, '11628': 1, '12222': 3, '13574': 3, '11580': 2, '4165': 1, '11624': 4, '9097': 4, '9769': 3, '9918': 4, '13568': 3, '12318': 3, '4968': 2, '14393': 3, '12311': 3, '12667': 3, '7126': 2, '12949': 3, '11387': 2, '12605': 3, '9751': 3, '9091': 0, '11385': 1, '8441': 2, '9092': 4, '13726': 0, '7184': 2, '13570': 2, '10019': 2, '12740': 0, '12675': 3, '11389': 3, '13566': 1, '12943': 3, '9625': 1, '13736': 1, '3791': 0, '10535': 0, '14292': 2, '10455': 4, '10586': 1, '13188': 1, '13703': 2, '3589': 1, '14031': 3, '8860': 1, '14192': 0, '10250': 3, '10543': 2, '14710': 2, '11695': 4, '13731': 3, '12673': 1, '12060': 0, '5793': 4, '12127': 3, '3693': 1, '13390': 4, '11618': 3, '13729': 2, '4200': 4, '4424': 2, '6151': 1, '4457': 1, '5186': 1, '5021': 3, '11861': 0, '8717': 3, '4013': 2, '12224': 2, '3585': 4, '12986': 4, '8547': 3, '10540': 4, '10589': 0, '9578': 1, '5895': 0, '6460': 2, '13701': 4, '14712': 1, '10564': 3, '14026': 3, '8699': 1, '14394': 4, '14392': 4, '10026': 0, '4220': 1, '3649': 3, '3913': 3, '9850': 1, '13185': 0, '3711': 3, '13290': 3, '13722': 0, '14294': 3, '11429': 3, '12218': 3, '6781': 1, '13564': 3, '9851': 3, '3940': 1, '11630': 0, '11859': 4, '6521': 2, '9584': 0, '10546': 1, '12593': 0, '12603': 2, '12214': 1, '8859': 1, '10308': 4, '13300': 3, '11698': 0}\n"
     ]
    }
   ],
   "source": [
    "# Generate Users Profile File\n",
    "\n",
    "# This method return a mapping of video(key) \n",
    "# and and array of scores(value)\n",
    "def parse_video_scores(scores_object):\n",
    "    result = {}\n",
    "    for score in scores_object:\n",
    "        if score['postId'] not in result:\n",
    "            result[score['postId']] = []\n",
    "        result[score['postId']].append(score['score'])\n",
    "    return result\n",
    "            \n",
    "def parse_video_words(words_object):\n",
    "    result = {}\n",
    "    for word in words_object:\n",
    "        if word['postId'] not in result:\n",
    "            result[word['postId']] = []\n",
    "        result[word['postId']].append(word['word'])\n",
    "    return result\n",
    "\n",
    "def parse_csv_file(csv_file):\n",
    "    result = {}\n",
    "    for index in range(1,len(csv_file[0])):\n",
    "        result[csv_file[0][index]] = int(csv_file[1][index])\n",
    "    return result\n",
    "    \n",
    "\n",
    "def calc_skipping_ratio(scores):\n",
    "    countSkipped = 0\n",
    "    for score in scores:\n",
    "        if score < 0:\n",
    "            countSkipped += 1\n",
    "    return round(countSkipped/len(scores),2)\n",
    "\n",
    "def calc_avg_score(scores):\n",
    "    countSkipped = 0\n",
    "    sumScores = 0\n",
    "    for score in scores:\n",
    "        if score < 0:\n",
    "            countSkipped += 1\n",
    "        else:\n",
    "            sumScores += score\n",
    "                \n",
    "    if len(scores)-countSkipped == 0:\n",
    "        return 0\n",
    "    else:\n",
    "        return round(sumScores/(len(scores)-countSkipped),2)\n",
    "    \n",
    "lenStudentBehavior = len(pd.read_json(\"studentBehaviorInfoOver40Class_1213.json\"))\n",
    "usersProfilesJsonWithIndexes = {}\n",
    "video_to_cluster = parse_csv_file(csv_file)\n",
    "print(video_to_cluster)\n",
    "for index in range(lenStudentBehavior):\n",
    "    memberId = studentBehavior[index][\"memberId\"]\n",
    "    if memberId not in usersProfilesJsonWithIndexes:\n",
    "        studentProfile                          = {}\n",
    "        studentProfile[\"memberId\"]              = memberId\n",
    "        studentProfile[\"videoSequence\"]         = []\n",
    "        studentProfile[\"skippingRatioSequence\"] = []\n",
    "        studentProfile[\"avgScoreSequence\"]         = []\n",
    "        studentProfile[\"dictionarySequence\"]    = []\n",
    "        studentProfile[\"skippingIndex\"]         = -1\n",
    "        studentProfile[\"clusterSequence\"]       = []\n",
    "        usersProfilesJsonWithIndexes[memberId] = studentProfile\n",
    "    \n",
    "    # Addid values for every key\n",
    "    # Video Sequence\n",
    "    usersProfilesJsonWithIndexes[memberId][\"videoSequence\"].extend(studentBehavior[index][\"chosenVideo\"])\n",
    "    \n",
    "    \n",
    "    videos_scores = parse_video_scores(studentBehavior[index][\"listenScore\"])\n",
    "    video_words = parse_video_words(studentBehavior[index][\"vocabularyList\"])\n",
    "    \n",
    "    \n",
    "    # SkippingRationSequence\n",
    "    for video in studentBehavior[index][\"chosenVideo\"]:\n",
    "        scores = videos_scores[video]\n",
    "        usersProfilesJsonWithIndexes[memberId][\"skippingRatioSequence\"].append(calc_skipping_ratio(scores))\n",
    "        # Average Score Sequence\n",
    "        avg = calc_avg_score(scores)\n",
    "        usersProfilesJsonWithIndexes[memberId][\"avgScoreSequence\"].append(avg)\n",
    "        \n",
    "        # DictionarySequence\n",
    "        if str(video) in video_words:\n",
    "            words = video_words[str(video)]\n",
    "            usersProfilesJsonWithIndexes[memberId][\"dictionarySequence\"].append(len(words))\n",
    "        else:\n",
    "            usersProfilesJsonWithIndexes[memberId][\"dictionarySequence\"].append(0)\n",
    "            \n",
    "        # ClusterSequece\n",
    "        usersProfilesJsonWithIndexes[memberId][\"clusterSequence\"].append(video_to_cluster[str(video)])\n",
    "            \n",
    "        \n",
    "    # skippingIndex\n",
    "    skip_index = [ n for n,i in enumerate(usersProfilesJsonWithIndexes[memberId][\"skippingRatioSequence\"]) if i>0.0 ][0]\n",
    "    usersProfilesJsonWithIndexes[memberId][\"skippingIndex\"] = skip_index\n",
    "        \n",
    "    \n",
    "    \n",
    "\n",
    "fileStudentProfile = open(\"studentProfile.json\", \"w\")\n",
    "fileStudentProfile.write(\"[\")\n",
    "lenObjects = len(usersProfilesJsonWithIndexes)\n",
    "it = 0\n",
    "for key, value in usersProfilesJsonWithIndexes.items():\n",
    "    json.dump(value,fileStudentProfile)\n",
    "    if it != (lenObjects-1):\n",
    "        fileStudentProfile.write(\", \")\n",
    "    it = it + 1\n",
    "    \n",
    "\n",
    "\n",
    "fileStudentProfile.write(\"]\")\n",
    "fileStudentProfile.close()"
   ]
  },
  {
   "cell_type": "markdown",
   "metadata": {},
   "source": [
    "# Notes\n",
    "\n",
    "1. We have three different skipRatio behavior\n",
    "    User that goes from 0 to 1\n",
    "    Users that goes from 0 to [a range gratter than 0] and stop\n",
    "    Users that goes from 0 to [a range gratter than 0] and then skippRation 1\n",
    "\n",
    "2. The skipIndex shows the index where the skipRation is gratter than 0\n",
    "    \n"
   ]
  },
  {
   "cell_type": "code",
   "execution_count": null,
   "metadata": {
    "collapsed": true
   },
   "outputs": [],
   "source": []
  }
 ],
 "metadata": {
  "anaconda-cloud": {},
  "kernelspec": {
   "display_name": "Python [conda root]",
   "language": "python",
   "name": "conda-root-py"
  },
  "language_info": {
   "codemirror_mode": {
    "name": "ipython",
    "version": 3
   },
   "file_extension": ".py",
   "mimetype": "text/x-python",
   "name": "python",
   "nbconvert_exporter": "python",
   "pygments_lexer": "ipython3",
   "version": "3.5.2"
  }
 },
 "nbformat": 4,
 "nbformat_minor": 2
}
